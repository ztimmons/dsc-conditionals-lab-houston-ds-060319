{
 "cells": [
  {
   "cell_type": "markdown",
   "metadata": {},
   "source": [
    "# Control Flow: Conditionals - Lab\n",
    "\n",
    "## Introduction\n",
    "Now that we have been introduced to some different data types, how to use them, and now conditionals, let's put our knowledge to the test and create some conditional statements that selectively assign values to variables based on whether they pass the conditions we set.\n",
    "\n",
    "## Objectives\n",
    "You will be able to:\n",
    "* Understand and use conditionals\n",
    "\n",
    "## Instructions\n",
    "\n",
    "Let's use our knowledge of variables and conditionals to assign values based on different conditions. Follow the instructions below to properly assign the values.\n",
    "\n",
    "With the started code in the cell below, use what you know about numbers and conditionals to assign a value to less_than_50 and follow the directions given in the comments below. Use this as a guide to structuring the rest of the problems in this lab."
   ]
  },
  {
   "cell_type": "code",
   "execution_count": 4,
   "metadata": {},
   "outputs": [
    {
     "name": "stdout",
     "output_type": "stream",
     "text": [
      "100\n"
     ]
    }
   ],
   "source": [
    "number_50 = 101\n",
    "less_than_50 = None\n",
    "if number_50 > 100:\n",
    "    less_than_50 = 100\n",
    "    # if number_50 is greater than 100, assign the `less_than_50` variable to the number 100\n",
    "elif number_50 < 50:\n",
    "    less_than_50 = 0\n",
    "    # if number_50 is greater than 50, assign the `less_than_50` variable to the number 50\n",
    "else:\n",
    "    less_than_50 = 49\n",
    "    # else assign the `less_than_50` variable to 49\n",
    "\n",
    "print(less_than_50)"
   ]
  },
  {
   "cell_type": "markdown",
   "metadata": {},
   "source": [
    "Below, use conditionals to tell whether it is hot outside or not. If it is hot, assign the string `\"It is so hot out!\"` to the variable `is_it_hot`. If it is not hot, assign the string `\"This is nothing! Bring on the heat.\"`. For our purposes, anything over `80` degrees is considered hot."
   ]
  },
  {
   "cell_type": "code",
   "execution_count": 8,
   "metadata": {},
   "outputs": [
    {
     "name": "stdout",
     "output_type": "stream",
     "text": [
      "Kinda cold really\n"
     ]
    }
   ],
   "source": [
    "temperature = 55\n",
    "is_it_hot = None\n",
    "if temperature > 80:\n",
    "    is_it_hot = \"Vury Hott\"\n",
    "elif temperature < 60:\n",
    "    is_it_hot = \"Kinda cold really\"\n",
    "else:\n",
    "    is_it_hot = \"not too bad\"\n",
    "\n",
    "print(is_it_hot)\n",
    "# conditionals go here"
   ]
  },
  {
   "cell_type": "markdown",
   "metadata": {},
   "source": [
    "Next, let's see what day of the week it is. There are 7 days in the week starting with Sunday at day `1` and ending with Saturday at day `7`. Use conditional statements to assign the day of the week to the variable `day_of_the_week` based on the number below assigned to the variable `today_is`.\n",
    "For example, if the day is `2`, we would assign `day_of_the_week` the value `\"Monday\"`."
   ]
  },
  {
   "cell_type": "code",
   "execution_count": 4,
   "metadata": {},
   "outputs": [
    {
     "ename": "SyntaxError",
     "evalue": "invalid syntax (<ipython-input-4-0f9ef5731c63>, line 3)",
     "output_type": "error",
     "traceback": [
      "\u001b[0;36m  File \u001b[0;32m\"<ipython-input-4-0f9ef5731c63>\"\u001b[0;36m, line \u001b[0;32m3\u001b[0m\n\u001b[0;31m    if today_is = 1:\u001b[0m\n\u001b[0m                ^\u001b[0m\n\u001b[0;31mSyntaxError\u001b[0m\u001b[0;31m:\u001b[0m invalid syntax\n"
     ]
    }
   ],
   "source": [
    "today_is = 4\n",
    "day_of_the_week = None\n",
    "if today_is == 1:\n",
    "    day_of_the_week = \"Sunday\"\n",
    "elif today_is == 2:\n",
    "    day_of_the_week = \"Monday\"\n",
    "elif today_is = 3:\n",
    "    day_of_the_week = \"Tuesday\"\n",
    "elif today_is = 4:\n",
    "    day_of_the_week = \"Wednesday\"\n",
    "elif today_is = 5:\n",
    "    day_of_the_week = \"Thursday\"\n",
    "elif today_is = 6:\n",
    "    day_of_the_week = \"Friday\"\n",
    "else:\n",
    "    day_of_the_week = \"Saturday\"\n",
    "\n",
    "print(day_of_the_week)\n",
    "# conditionals go here"
   ]
  },
  {
   "cell_type": "markdown",
   "metadata": {},
   "source": [
    "Finally, let's take a string and see if it ends with a certain substring. If it does, assign the variable `ends_with` to either `True` or `False`. For example, we have the string \"School\" and we want to know if it ends with the sub-string \"cool\". In this case it does not, so, we would assign `False` to the variable `ends_with`. "
   ]
  },
  {
   "cell_type": "code",
   "execution_count": null,
   "metadata": {},
   "outputs": [],
   "source": [
    "string = \"Python\"\n",
    "sub_string = \"on\"\n",
    "ends_with = None\n",
    "# conditionals go here"
   ]
  },
  {
   "cell_type": "markdown",
   "metadata": {},
   "source": [
    "## Summary\n",
    "\n",
    "Great! In this lab we saw how to use our knowedge of conditionals to selectively assign values based on a condition. We will start integrating conditionals in many more ways in our code and we will start to see how useful they can become in more complex problems."
   ]
  }
 ],
 "metadata": {
  "kernelspec": {
   "display_name": "Python 3",
   "language": "python",
   "name": "python3"
  },
  "language_info": {
   "codemirror_mode": {
    "name": "ipython",
    "version": 3
   },
   "file_extension": ".py",
   "mimetype": "text/x-python",
   "name": "python",
   "nbconvert_exporter": "python",
   "pygments_lexer": "ipython3",
   "version": "3.6.6"
  }
 },
 "nbformat": 4,
 "nbformat_minor": 2
}
